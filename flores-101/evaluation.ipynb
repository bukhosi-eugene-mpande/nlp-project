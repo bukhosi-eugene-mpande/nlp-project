{
 "cells": [
  {
   "cell_type": "code",
   "execution_count": null,
   "id": "417a9a8b",
   "metadata": {},
   "outputs": [],
   "source": [
    "%pip install sacrebleu\n",
    "%pip install datasets\n",
    "%pip install transformers torch\n",
    "%pip install --upgrade pip setuptools wheel"
   ]
  },
  {
   "cell_type": "code",
   "execution_count": null,
   "id": "fcf58d46",
   "metadata": {},
   "outputs": [],
   "source": [
    "from sacrebleu import corpus_bleu\n",
    "\n",
    "# Calculate BLEU score\n",
    "with open(\"flores101.hyp.txt\", \"r\", encoding=\"utf-8\") as f:\n",
    "    hyps = [line.strip() for line in f]\n",
    "\n",
    "with open(\"flores101.ref.txt\", \"r\", encoding=\"utf-8\") as f:\n",
    "    refs = [[line.strip() for line in f]]\n",
    "\n",
    "bleu_score = corpus_bleu(hyps, refs)\n",
    "print(f\"BLEU score: {bleu_score.score:.2f}\")"
   ]
  }
 ],
 "metadata": {
  "kernelspec": {
   "display_name": "Python 3",
   "language": "python",
   "name": "python3"
  },
  "language_info": {
   "name": "python",
   "version": "3.13.2"
  }
 },
 "nbformat": 4,
 "nbformat_minor": 5
}
